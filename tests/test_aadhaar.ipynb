{
 "cells": [
  {
   "cell_type": "markdown",
   "metadata": {},
   "source": [
    "# __Extracting Aadhaar Card Details__"
   ]
  },
  {
   "cell_type": "code",
   "execution_count": 1,
   "metadata": {},
   "outputs": [],
   "source": [
    "from ocr import ExtractAadhaarData\n",
    "from config import AADHAAR_TEST_1, AADHAAR_TEST_2"
   ]
  },
  {
   "cell_type": "markdown",
   "metadata": {},
   "source": [
    "### __Test - 1__\n",
    "(Good Image Quality)"
   ]
  },
  {
   "cell_type": "code",
   "execution_count": 2,
   "metadata": {},
   "outputs": [
    {
     "data": {
      "text/plain": [
       "['8364 5789 2230', '29/07/1980', 'Male']"
      ]
     },
     "execution_count": 2,
     "metadata": {},
     "output_type": "execute_result"
    }
   ],
   "source": [
    "aadhaar_data = ExtractAadhaarData(AADHAAR_TEST_1)\n",
    "aadhaar_data.get_aadhaar()"
   ]
  },
  {
   "cell_type": "markdown",
   "metadata": {},
   "source": [
    "### __Test - 2__\n",
    "(Low Image Quality)"
   ]
  },
  {
   "cell_type": "markdown",
   "metadata": {},
   "source": [
    "- __Without Image Preprocessing__"
   ]
  },
  {
   "cell_type": "code",
   "execution_count": 3,
   "metadata": {},
   "outputs": [
    {
     "data": {
      "text/plain": [
       "['Aadhaar Number Not Found', '16/11/2004', 'FEMALE']"
      ]
     },
     "execution_count": 3,
     "metadata": {},
     "output_type": "execute_result"
    }
   ],
   "source": [
    "# Default usage (preprocess=False by default)\n",
    "\n",
    "aadhaar_data1 = ExtractAadhaarData(AADHAAR_TEST_2)\n",
    "aadhaar_data1.get_aadhaar()"
   ]
  },
  {
   "cell_type": "markdown",
   "metadata": {},
   "source": [
    "- __Applying Image Preprocessing__"
   ]
  },
  {
   "cell_type": "code",
   "execution_count": 4,
   "metadata": {},
   "outputs": [
    {
     "data": {
      "text/plain": [
       "['8911 3824 2345', 'Aadhaar DOB Not Found', 'FEMALE']"
      ]
     },
     "execution_count": 4,
     "metadata": {},
     "output_type": "execute_result"
    }
   ],
   "source": [
    "# After image processing, able to detect aadhaar number with compromising DOB\n",
    "\n",
    "aadhaar_data_preprocess = ExtractAadhaarData(AADHAAR_TEST_2, preprocess=True)\n",
    "aadhaar_data_preprocess.get_aadhaar()"
   ]
  }
 ],
 "metadata": {
  "kernelspec": {
   "display_name": "env",
   "language": "python",
   "name": "python3"
  },
  "language_info": {
   "codemirror_mode": {
    "name": "ipython",
    "version": 3
   },
   "file_extension": ".py",
   "mimetype": "text/x-python",
   "name": "python",
   "nbconvert_exporter": "python",
   "pygments_lexer": "ipython3",
   "version": "3.11.0"
  }
 },
 "nbformat": 4,
 "nbformat_minor": 2
}
